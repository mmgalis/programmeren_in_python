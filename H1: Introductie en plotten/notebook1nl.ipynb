{
 "cells": [
  {
   "cell_type": "markdown",
   "metadata": {},
   "source": [
    "<figure>\n",
    "  <IMG SRC=\"https://raw.githubusercontent.com/mmgalis/programmeren_in_python/master/HVHL_logo.png\" WIDTH=250 ALIGN=\"right\">\n",
    "</figure>\n",
    "\n",
    "# Leren programmeren met Python\n",
    "*Ontwikkeld door Mark Bakker*\n",
    "*, vertaald door Mina Galis*"
   ]
  },
  {
   "cell_type": "markdown",
   "metadata": {},
   "source": [
    "## Notebook 1: Introductie en plotten\n",
    "### Python beginsels\n",
    "Python is een populaire, open-source programmeer taal. Je kan Python voor bijna alles gebruiken, bijvoorbeeld als een rekenmachine. Richt je cursus op de *input* cell hieronder en klik [shift][enter] om de cell uit te voeren. The *output* zou 12 moeten zijn :)"
   ]
  },
  {
   "cell_type": "code",
   "execution_count": null,
   "metadata": {},
   "outputs": [],
   "source": [
    "6 * 2"
   ]
  },
  {
   "cell_type": "markdown",
   "metadata": {},
   "source": [
    "Gebruik spaties om de code leesbaarder te maken.\n",
    "`2 * 3` werkt hetzelfde als `2*3`.\n",
    "\n",
    "Als je aan het programmeren bent, gebruik je variabelen om waardes op te slaan."
   ]
  },
  {
   "cell_type": "code",
   "execution_count": null,
   "metadata": {},
   "outputs": [],
   "source": [
    "a = 6\n",
    "b = 2\n",
    "a * b"
   ]
  },
  {
   "cell_type": "markdown",
   "metadata": {},
   "source": [
    "Zowel `a` als `b` zijn nu variabelen. Elke variabele heeft een bepaald type. In dit geval zijn ze beide *integers* (gehele getallen). Om de waarde van een variabelen te laten zien, moet je de `print` functie gebruiken. (De laatste zin van een cell wordt automatisch geprint, zolang de informatie niet in een nieuwe variabele wordt opgeslagen.)\n",
    "Merk op dat de vermenigvuldiging van 2 gehele getallen resulteerd in een nieuw geheel getal, maar dat de breuk van 2 gehele getallen resulteerd in een *float* (een getal met cijfers achter de komma)."
   ]
  },
  {
   "cell_type": "code",
   "execution_count": null,
   "metadata": {},
   "outputs": [],
   "source": [
    "print(a)\n",
    "print(b)\n",
    "print(a * b)\n",
    "print(a / b)"
   ]
  },
  {
   "cell_type": "markdown",
   "metadata": {},
   "source": [
    "Je kan tekst toevoegen aan de `print` functie door de tekst tussen haakjes te zetten (enkel of dubbel werken allebei zolang je het consistent toepast). Je moet een stuk tekst tussen haakjes (een *string*) en variabelen scheiden met een komma."
   ]
  },
  {
   "cell_type": "code",
   "execution_count": null,
   "metadata": {},
   "outputs": [],
   "source": [
    "print('de waarde van a is', a)"
   ]
  },
  {
   "cell_type": "markdown",
   "metadata": {},
   "source": [
    "Je kan een variabele machtsheffen door `**` te gebruiken.\n",
    "(Een dakje `^`, zoals gebruikt in sommige andere programma's werkt niet.)"
   ]
  },
  {
   "cell_type": "code",
   "execution_count": null,
   "metadata": {},
   "outputs": [],
   "source": [
    "a ** b"
   ]
  },
  {
   "cell_type": "markdown",
   "metadata": {},
   "source": [
    "### <a name=\"ex1a\"></a> Opdracht 1a, Je eerste Python code\n",
    "Bereken de waarde van de polynoom $y=ax^2+bx+c$ op de punten $x=-2$, $x=0$, en $x=2.1$ gegegeven dat $a=1$, $b=1$, $c=-6$. \n",
    "\n",
    "Print de resultaten op het scherm."
   ]
  },
  {
   "cell_type": "code",
   "execution_count": null,
   "metadata": {},
   "outputs": [],
   "source": []
  },
  {
   "cell_type": "markdown",
   "metadata": {},
   "source": [
    "<a href=\"#ex1aanswer\">Antwoord van opdracht 1a</a>"
   ]
  },
  {
   "cell_type": "markdown",
   "metadata": {},
   "source": [
    "### Delen\n",
    "Delen is ook mogelijk"
   ]
  },
  {
   "cell_type": "code",
   "execution_count": 4,
   "metadata": {},
   "outputs": [
    {
     "name": "stdout",
     "output_type": "stream",
     "text": [
      "1/3 geeft 0.3333333333333333\n"
     ]
    }
   ],
   "source": [
    "print('1/3 geeft', 1 / 3)"
   ]
  },
  {
   "cell_type": "markdown",
   "metadata": {},
   "source": [
    "De output hierboven ziet er lelijk uit met 16 keer het cijfer 3 achter elkaar. Een alternatieve manier om zowel tekst als waardes van variabelen te printen is f-strings te gebruiken. Door deze f-strings te gebruiken kan je de waarde van een variabele overal in de tekst laten zien door er accolades om heen te zetten `{}`. De gehele tekst string moet tussen haakjes staan en je begint de string met een f voor het eerste haakje `'`. "
   ]
  },
  {
   "cell_type": "code",
   "execution_count": null,
   "metadata": {},
   "outputs": [],
   "source": [
    "a = 1\n",
    "b = 3\n",
    "c = a / b\n",
    "print(f'{a} gedeeld door {b} geeft {c}')"
   ]
  },
  {
   "cell_type": "markdown",
   "metadata": {},
   "source": [
    "Binnen de accolades `{}` kan je ook het aantal decimalen van de variabelen specificeren. Als je een getal met 3 decimalen (een float) wilt, specifieer dan het aantal decimalen, `3`, gevolgd door de letter `f` van *floating point*. \n",
    "\n",
    "Je kunt getallen ook weegeven in de wetenschappelijke notatie, door `f` te vervangen door `e`. \n",
    "\n",
    "Alle tekst op een lijn die volgt na `#` is commentaar en zal worden genegeerd door Python."
   ]
  },
  {
   "cell_type": "code",
   "execution_count": null,
   "metadata": {},
   "outputs": [],
   "source": [
    "print(f'{a} gedeeld door {b} geeft {c:.3f}') # 3 decimalen\n",
    "print(f'{a} gedeeld door {b} geeft {c:10.3f}') # breedte van 10 en 3 decimalen\n",
    "print(f'{a} gedeeld door {b} geeft {c:.3e}') # 3 decimalen in de wetenschappelijke notatie"
   ]
  },
  {
   "cell_type": "markdown",
   "metadata": {},
   "source": [
    "### <a name=\"ex1b\"></a> Opdracht 1b, Eerste Python code met f-strings\n",
    "Bereken de waarde van de polynoom $y=ax^2+bx+c$ op de punten $x=-2$, $x=0$, en $x=2.1$ gegegeven dat $a=1$, $b=1$, $c=-6$. \n",
    "\n",
    "Maak gebruik van f-strings en rond af op 2 decimalen. Print de resultaten op het scherm."
   ]
  },
  {
   "cell_type": "code",
   "execution_count": null,
   "metadata": {},
   "outputs": [],
   "source": []
  },
  {
   "cell_type": "markdown",
   "metadata": {},
   "source": [
    "<a href=\"#ex1banswer\">Antwoord van opdracht 1b</a>"
   ]
  },
  {
   "cell_type": "markdown",
   "metadata": {},
   "source": [
    "### Meer over variabelen\n",
    "ALs je eenmaal een variabele hebt gemaakt in een Python sessie, zal het in het geheugen blijven zodat je het ook in andere cellen kan gebruiken. Bijvoorbeeld, de variabelen `a` en `b`, die we 2 cellen hierboven hebben gedefinieerd, bestaan nog steeds."
   ]
  },
  {
   "cell_type": "code",
   "execution_count": null,
   "metadata": {},
   "outputs": [],
   "source": [
    "print(f'the value of a is: {a}')\n",
    "print(f'the value of b is: {b}')"
   ]
  },
  {
   "cell_type": "markdown",
   "metadata": {},
   "source": [
    "De gebruiker (in dit geval: jij!) kiest de volgorde van cellen die worden uitgevoerd. Bijvoorbeeld, `In [6]` betekent dat het de 6e uitgevoerde cell is. Als je de input veranderd en nog een keer uitvoerd, zal je `In [7]` krijgen. Als je de variabele `a` definieerd in cell blok 7, zal het de waarde van `a` in de vorige cells overschrijven. \n",
    "\n",
    "Namen van variabelen mogen zo lang zijn als je wilt. Kies namen die je helpen bij het begrijpen van de code (bijvoorbeeld de eerste letter of een afkorting van datgene wat je wilt beschrijven). Je kunt geen spaties gebruiken of de variabele beginnen met een getal. De namen van variabelen zijn hoofdletter gevoelig; dus `mijnvariabele` is niet hetzelfde als `MijnVariabele`. Sommige woorden zijn gereserveerd omdat ze een bepaalde functie hebben in Python. Je kunt bijvoorbeeld niet de variabele `print = 7` gebruiken. Deze gereserveerde woorden worden groen als je ze typt."
   ]
  },
  {
   "cell_type": "markdown",
   "metadata": {},
   "source": [
    "### Introductie plotten en een eerste array\n",
    "Plotten is niet een standaard onderdeel van Python, maar er bestaat een goede *package* om mooie *graphics* (figuren) te maken. Een package is een bibliotheek van functies voor een specifieke taak. The graphics package die wij zullen gebruiken heet `matplotlib`. Om gebruik te maken van de functies in `matplotlib` moet je de package eerst importeren. We zullen nu enkel het deel dat te maken heeft met plotten `matplotlib.pyplot` importeren als `plt`. Voor we dat doen, vertellen we Jupyter Notebook dat grafieken in het notebook weergeven moeten worden en niet in een nieuw venster door middel van het commando `%matplotlib inline`. "
   ]
  },
  {
   "cell_type": "code",
   "execution_count": 1,
   "metadata": {},
   "outputs": [],
   "source": [
    "%matplotlib inline\n",
    "import matplotlib.pyplot as plt"
   ]
  },
  {
   "cell_type": "markdown",
   "metadata": {},
   "source": [
    "Packages hoeven slechts eenmaal geimporteerd te worden in een Python sessie. Na het importeren kan je een plot functie aanroepen met `plt.functie`. De functie die we het meest zullen gebruiken is `plt.plot`, bijvoorbeeld"
   ]
  },
  {
   "cell_type": "code",
   "execution_count": null,
   "metadata": {},
   "outputs": [],
   "source": [
    "plt.plot([1, 2, 4, 2])"
   ]
  },
  {
   "cell_type": "markdown",
   "metadata": {},
   "source": [
    "Laten we proberen om $y$ vs $x$ te plotten voor $-4<x<4$ voor de polynoom $y=ax^2+bx+c$ met $a=1$, $b=1$, $c=-6$.\n",
    "\n",
    "Om dat te doen, moeten we eerst $y$ berekenen voor een aantal punten. Een reeks waardes van hetzelfde type heet een array (bijvoorbeeld een array van integers (gehele getallen) of floats (met decimale getallen)). Arras zijn beschikbaar via de package `numpy`. Laten we `numpy` importeren en `np` noemen, zodat elke functie van `numpy` aangeroepen kan worden als `np.functie`. "
   ]
  },
  {
   "cell_type": "code",
   "execution_count": 2,
   "metadata": {},
   "outputs": [],
   "source": [
    "import numpy as np"
   ]
  },
  {
   "cell_type": "markdown",
   "metadata": {},
   "source": [
    "Om een array `x` te creëren met 5 gelijk verdeelde punten tussen `-4` en `4` kan je de `linspace` commando gebruiken."
   ]
  },
  {
   "cell_type": "code",
   "execution_count": null,
   "metadata": {},
   "outputs": [],
   "source": [
    "x = np.linspace(-4, 4, 5)\n",
    "print(x)"
   ]
  },
  {
   "cell_type": "markdown",
   "metadata": {},
   "source": [
    "In de cell hierboven is `x` een array van 5 floats (`-4.` is een float, `-4` is een integer).\n",
    "Als je `np.linspace` intypt en dan een haakje openen:\n",
    "\n",
    "`np.linspace(`\n",
    "\n",
    "en dan op [shift][tab] drukt dan opent er box waar je meer informatie kan vinden over wat je in moet voeren in de functie. Als je op het + teken klikt, kan je door alle informatie heenscrollen. Klik x om de box weg te halen. \n",
    "\n",
    "Laten we $y$ plotten voor 100 waardes van $x$ tussen $-4$ en $+4$."
   ]
  },
  {
   "cell_type": "code",
   "execution_count": null,
   "metadata": {},
   "outputs": [],
   "source": [
    "a = 1\n",
    "b = 1\n",
    "c = -6\n",
    "x = np.linspace(-4, 4, 100)\n",
    "y = a * x ** 2 + b * x + c  # Bereken y voor alle waardes van x\n",
    "plt.plot(x, y)"
   ]
  },
  {
   "cell_type": "markdown",
   "metadata": {},
   "source": [
    "Merk op dat 100 waardes van `y` worden berekend in de lijn `y = a * x ** 2 + b * x + c`. Python behandeld arrays hetzelfde als het normale variabele behandeld als je berekeningen doet. De wiskunde wordt simpelweg op elke waarde in de array toegepast (en werkt veel sneller dan als je elke berekening los van elkaar zou doen).\n",
    "\n",
    "Je vraagt je mischien af wat de output `[<matplotlib.lines.Line2D at 0x30990b0>]` is. Dit is een *handle* gecreëerd door het laatste commando `plt.plot(x, y)`. Herinner je nog dat het resultaat van de laatste lijn geprint wordt op het scherm, tenzij het wordt opgeslagen in een variabele? Door een puntkomma te typen na het laatste commando (`plot(x, y);`), voorkom je dat de Jupyter Notebook deze zin laat zien. Later zullen we zien dat het handig kan zijn om deze handle op te slaan in een variabele."
   ]
  },
  {
   "cell_type": "markdown",
   "metadata": {},
   "source": [
    "De `plot` functie kan meerdere argumenten gegeven worden. Door te typen `plt.plot(` en dan [shift][tab] te klikken, geeft je een overzicht van alle mogelijkheden. Een andere optie is `plt.plot?`, dan verschijnt er een grotere box aan de onderkant van het scherm."
   ]
  },
  {
   "cell_type": "markdown",
   "metadata": {},
   "source": [
    "In het kort, `plot` kan gebruikt worden met een enkel argument als `plot(y)`, wat `y` plot langs de verticale as en elk punt een stap verder zet op de horizontale as beginnend bij 0. `plot(x, y, formatstring)` plots `y` vs `x` gebruikmakend van de kleuren en markers gedefinieerd in `formatstring`. Je kan hiermee de kleur definieren, bijvoorbeeld `b` voor blauw, `g` voor groen. Of je kan het lijntype definieren, bijvoorbeeld `'-'` voor een lijn (automatisch), `'--'` voor een gestreepte lijn (dashed) of `':'` voor een stippel lijn (dots). Je kan ook in plaats van een lijn enkel de punten plotten met markers, bijvoorbeeld `'o'` voor cirkels en `'s'` voor vierkantjes. Je kan alles zelfs combineren: `'r--'` geeft een rode gestreepte lijn en `'go'` geeft groene ronde markers. "
   ]
  },
  {
   "cell_type": "code",
   "execution_count": 32,
   "metadata": {},
   "outputs": [
    {
     "data": {
      "image/png": "[encoded data removed]",
      "text/plain": [
       "<Figure size 432x288 with 1 Axes>"
      ]
     },
     "metadata": {
      "needs_background": "light"
     },
     "output_type": "display_data"
    }
   ],
   "source": [
    "plt.plot([4,6,8,6,4,6,8],'bo');"
   ]
  },
  {
   "cell_type": "markdown",
   "metadata": {},
   "source": [
    "Je kunt ook meerdere argumenten geven. Iets wat je vaak zal gebruiken is `plot(x, y)`, wat waardes van `y` plot tegenover waardes van `x`. Het is belangrijk dat in dat geval `y` en `x` even lang zijn, dat wil zeggen dat de array van `y` en `x` evenveel elementen bevatten.\n",
    "\n",
    "Als dat nog niet genoeg is, kan je extra keyword arguments meegeven aan de functie `plot` d.m.v `function(keyword1=value1, keyword2=value2)`. Bijvoorbeeld, om een lijn met lijndikte 6 te plotten, typ"
   ]
  },
  {
   "cell_type": "code",
   "execution_count": 24,
   "metadata": {},
   "outputs": [
    {
     "data": {
      "image/png": "[encoded data removed]",
      "text/plain": [
       "<Figure size 432x288 with 1 Axes>"
      ]
     },
     "metadata": {
      "needs_background": "light"
     },
     "output_type": "display_data"
    }
   ],
   "source": [
    "plt.plot([1, 2, 3], [2, 4, 3], linewidth=6);"
   ]
  },
  {
   "cell_type": "markdown",
   "metadata": {},
   "source": [
    "Keyword argument komen na de normale argumenten. `plot(linewidth=6, [1, 2, 3], [2, 4, 3])` geeft een error."
   ]
  },
  {
   "cell_type": "markdown",
   "metadata": {},
   "source": [
    "Je kan de x- en y-as namen geven met de `xlabel` en `ylabel` functies, e.g. `plt.xlabel('dit is de x-axis')`. Let op dat beide functies een tekst string als argument vragen. Een titel kan worden toegevoegd met de `plt.title` commando. Meerdere functies kunnen worden toegevoegd aan een figuur door de `plt.plot` functie vaker te gebruiken in dezelfde cell. De functies worden dan automatisch aan hetzelfde figuur toegevoegd."
   ]
  },
  {
   "cell_type": "markdown",
   "metadata": {},
   "source": [
    "### Nieuw figuur and figuur afmeting\n",
    "Als je een functie plot in een cell, wordt een figuur met een standaard afmeting automatisch gemaakt en alle hieropvolgende plotting commando's worden aan ditzelfde figuur toegevoegd. Als je een andere afmeting wilt, moet je eerst een figuur creëren met de gewenste afmeting d.m.v. `plt.figure(figsize=(width, height))`. Elke plot functie zal hierna worden toegevoegd aan dit figuur (totdat je weer een nieuw figuur aanmaakt)."
   ]
  },
  {
   "cell_type": "code",
   "execution_count": null,
   "metadata": {},
   "outputs": [],
   "source": [
    "plt.figure(figsize=(10, 3))\n",
    "plt.plot([1, 2, 3], [2, 4, 3], linewidth=6)\n",
    "plt.title('heel breed figuur')\n",
    "plt.figure()  # nieuw figuur met standaard afmeting\n",
    "plt.plot([1, 2, 3], [1, 3, 1], 'r')\n",
    "plt.title('tweede figuur');"
   ]
  },
  {
   "cell_type": "markdown",
   "metadata": {},
   "source": [
    "### <a name=\"ex2\"></a> Opdracht 2, Eerste grafiek\n",
    "Plot $y=(x+2)(x-1)(x-2)$ voor $x$ tussen $-3$ en $+3$ als een rode, gestreepte lijn. In hetzelfde figuur, plot een blauwe cirkel voor elk punt waar $y$ gelijk is aan 0. Zet de grootte van de markers op 10 (bekijk wanneer nodig `plt.plot?`). Geef de assen de labels $x-as$ en $y-as$. Voeg de titel 'Super mooie eerste plot' toe aan de grafiek (of wees zelf creatief)."
   ]
  },
  {
   "cell_type": "code",
   "execution_count": null,
   "metadata": {},
   "outputs": [],
   "source": []
  },
  {
   "cell_type": "markdown",
   "metadata": {},
   "source": [
    "<a href=\"#ex2answer\">Antwoord van opdracht 2</a>"
   ]
  },
  {
   "cell_type": "markdown",
   "metadata": {},
   "source": [
    "### Stijl\n",
    "Zoals eerder beschreven, is het belangrijk om een goede stijl te hanteren. Dat maakt het makkelijker om de code te lezen en dus *errors* en *bugs* te vinden en de code te verbeteren. Zie hieronder een cell die niet de goede stijl hanteert."
   ]
  },
  {
   "cell_type": "code",
   "execution_count": null,
   "metadata": {},
   "outputs": [],
   "source": [
    "a=1\n",
    "b=1\n",
    "c=-6\n",
    "x=np.linspace(-4,4,100)\n",
    "y=a*x**2+b*x+c#Bereken y voor alle waardes van x\n",
    "plt.plot(x,y,linewidth=3)"
   ]
  },
  {
   "cell_type": "markdown",
   "metadata": {},
   "source": [
    "De code in de vorige cell is moeilijk om te lezen. Een goede code schrijver gebruikt:\n",
    "* spaties rondom elk wiskunde symool (`=`, `+`, `-`, `*`, `/`), behalve `**`\n",
    "* spaties tussen argumenten van een functie\n",
    "* geen spaties rondom een `=` teken van een keyword argument (dus `linewidth=3` is correct)\n",
    "* 1 spatie na elke komma\n",
    "* 1 spatie na elke `#`\n",
    "* 2 spaties voor een `#` als het een Python functie volgt\n",
    "* geen spatie tussen de functie naam en de lijst met argumenten. Dus `plt.plot(x, y)` is goed, maar `plt.plot (x, y)` niet.\n",
    "\n",
    "Deze regels zijn (een klein deel van) de officiële Python stijl gids genaamd PEP8. Wanneer deze regels toegepast worden wordt de code veel makkelijker om te lezen, zoals laten zien in het volgende voorbeeld."
   ]
  },
  {
   "cell_type": "code",
   "execution_count": null,
   "metadata": {},
   "outputs": [],
   "source": [
    "a = 1\n",
    "b = 1\n",
    "c = -6\n",
    "x = np.linspace(-4, 4, 100)\n",
    "y = a * x**2 + b * x + c  # Compute y for all x values\n",
    "plt.plot(x, y, linewidth=3);"
   ]
  },
  {
   "cell_type": "markdown",
   "metadata": {},
   "source": [
    "Gebruik vanaf nu altijd de juiste stijl."
   ]
  },
  {
   "cell_type": "markdown",
   "metadata": {},
   "source": [
    "### Opdracht 2b. Eerste grafiek herzien.\n",
    "Herhaal opdracht 2 en hanteer de juiste stijl (PEP8)."
   ]
  },
  {
   "cell_type": "markdown",
   "metadata": {},
   "source": [
    "### Inladen van data bestanden\n",
    "\n",
    "Numerieke data kan worden ingeladen van een data bestand aan de hand van de numpy functie `np.loadtxt`. Het bestand moet in dezelfde map staan als je notebook (of je moet het gehele pad aangeven). De bestandsnaam (of pad plus bestandsnaam) moet tussen haakjes `'bestandsnaam.dat'` staan. "
   ]
  },
  {
   "cell_type": "markdown",
   "metadata": {},
   "source": [
    "### <a name=\"ex3\"></a> Opdracht 3, Data inladen en een legenda toevoegen\n",
    "Je hebt de data bestanden gekregen met de gemiddelde maandelijke temperaturen in Nederland, New York City en Beijing. The Nederlandse data is opgeslagen in `holland_temperature.dat`, en de andere bestandsnamen spreken vanzelf. Plot the temperatuur voor elke locatie tegen het getal van de maand (1 voor januari, etc.) in een enkele grafiek. Voeg een legenda toe voor elke locatie met behulp van de functie `plt.legend(['line1','line2'])`. Plaats de legenda op een handige plek in de grafiek, bijvoorbeeld links bovenin de hoek (check `plt.legend?` voor meer info)."
   ]
  },
  {
   "cell_type": "code",
   "execution_count": null,
   "metadata": {},
   "outputs": [],
   "source": []
  },
  {
   "cell_type": "markdown",
   "metadata": {},
   "source": [
    "<a href=\"#ex3answer\">Antwoord van opdracht 3</a>"
   ]
  },
  {
   "cell_type": "markdown",
   "metadata": {},
   "source": [
    "### <a name=\"ex4\"></a> Exercise 4, Subplots en tick markers\n",
    "Laad de gemiddelde luch temperatuur en water temperatuur voor Nederland. Creëer een figuur met twee grafieken boven elkaar gebruikmakend van het `subplot` commando (check `plt.subplot?`). In de bovenste grafiek plot je zowel de lucht als de water temperatuur. Label de *ticks* op de horizontale as als 'jan', 'feb', 'mar', etc., in plaats van getallen. Check `plt.xticks?` om uit te vinden hoe je dat kan doen. In de onderste grafiek plot je het verschil tussen de lucht en water temperatuur. Vergeet niet legenda's, labels voor de assen en een titel toe te voegen. "
   ]
  },
  {
   "cell_type": "code",
   "execution_count": null,
   "metadata": {},
   "outputs": [],
   "source": []
  },
  {
   "cell_type": "markdown",
   "metadata": {},
   "source": [
    "<a href=\"#ex4answer\">Antwoord van opdracht 4</a>"
   ]
  },
  {
   "cell_type": "markdown",
   "metadata": {},
   "source": [
    "### Kleuren\n",
    "Als je geen specifieke kleur meegeeft aan een plot, dan zal `matplotlib` zijn standaard kleuren gebruiken. De eerste drie standaard kleuren zijn speciale kleuren blauw, oranje en groen. De namen van deze standaard kleuren zijn `C` gevolgd door een nummer, beginnend met het nummer `0`. Bijvoorbeeld"
   ]
  },
  {
   "cell_type": "code",
   "execution_count": null,
   "metadata": {},
   "outputs": [],
   "source": [
    "plt.plot([0, 1], [0, 1], 'C0')\n",
    "plt.plot([0, 1], [1, 2], 'C1')\n",
    "plt.plot([0, 1], [2, 3], 'C2')\n",
    "plt.legend(['default blue', 'default orange', 'default green']);"
   ]
  },
  {
   "cell_type": "markdown",
   "metadata": {},
   "source": [
    "Er zijn vijf verschillende manieren om je eigen kleuren te specificeren in matplotlib_plotting; lees er [hier](http://matplotlib.org/examples/pylab_examples/color_demo.html) meer over. Een handige manier is gebruik te maken van html kleur codes, deze kan je bijvoorbeeld [hier](http://en.wikipedia.org/wiki/Web_colors) vinden."
   ]
  },
  {
   "cell_type": "code",
   "execution_count": null,
   "metadata": {},
   "outputs": [],
   "source": [
    "color1 = 'fuchsia'\n",
    "color2 = 'lime'\n",
    "color3 = 'DodgerBlue'\n",
    "plt.plot([0, 1], [0, 1], color1)\n",
    "plt.plot([0, 1], [1, 2], color2)\n",
    "plt.plot([0, 1], [2, 3], color3)\n",
    "plt.legend([color1, color2, color3]);"
   ]
  },
  {
   "cell_type": "markdown",
   "metadata": {},
   "source": [
    "De meest nerdy manier is waarschijnlijk het gebruik van xkcd namen, welke moeten worden begonnen met `xkcd:`. De xkcd lijst met kleuren vind je [hier](https://xkcd.com/color/rgb/), met als voorbeeld `xkcd: baby puke green`."
   ]
  },
  {
   "cell_type": "code",
   "execution_count": null,
   "metadata": {},
   "outputs": [],
   "source": [
    "plt.plot([1, 2, 3], [4, 5, 2], 'xkcd:baby puke green');\n",
    "plt.title('xkcd color baby puke green');"
   ]
  },
  {
   "cell_type": "markdown",
   "metadata": {},
   "source": [
    "### Verschillende vormen van grafieken\n",
    "Met `matplotlib` kan je hele mooie grafieken maken. Check  <A href=\"http://matplotlib.org/gallery.html\"  target=_blank>matplotlib gallery</A> voor een overzicht van alle opties. In de volgende opdrachten zullen sommige van deze opties terugkomen. "
   ]
  },
  {
   "cell_type": "markdown",
   "metadata": {},
   "source": [
    "### <a name=\"ex5\"></a> Opdracht 5, Taart diagram\n",
    "Bij de Olympische spelen in Londen in 2012, de beste 10 landen (plus de rest) waren  `['USA', 'CHN', 'GBR', 'RUS', 'KOR', 'GER', 'FRA', 'ITA', 'HUN', 'AUS', 'OTHER']`. Zij haalden respectievelijk `[46, 38, 29, 24, 13, 11, 11, 8, 8, 7, 107]` gouden medaille's. Maak een taart diagram met `plt.pie` van de top 10 gouden medaille winnaars plus de rest. Gebruik *keyword arguments* om de stukken taart te labelen aan het juiste land. Als je taart diagram er als een ellips uit ziet in plaats van een cirkel dan kan je de functie `plt.axis('equal')` gebruiken. Gebruik het `colors` keyword om een specifieke reeks kleuren te gebruiken, bijvoorbeeld `['MediumBlue','SpringGreen','BlueViolet']` (de kleuren worden herhaald als de reeks niet lang genoeg is)."
   ]
  },
  {
   "cell_type": "code",
   "execution_count": null,
   "metadata": {},
   "outputs": [],
   "source": []
  },
  {
   "cell_type": "markdown",
   "metadata": {},
   "source": [
    "<a href=\"#ex5answer\">Antwoord van opdracht 5</a>"
   ]
  },
  {
   "cell_type": "markdown",
   "metadata": {},
   "source": [
    "### <a name=\"ex6\"></a> Opdracht 6, Inkleuren\n",
    "Laad de lucht en water temperatuur, zoals gebruikt in opdracht 4, maar maak deze keer een enkele plot van de temperatuur tegenover het getal van de maand en gebruik het `plt.fill_between` commando om de ruimte tussen de lijn van de grafiek en de horizontale as te vullen (*to fill* in het Engels). Specifieer het `alpha` *keyword*, wat de transparante definieerd. Zoek de juiste waarde voor alpha (tussen 0 en 1). Met de `color` *keyword argument* kan je de kleur specificieren. "
   ]
  },
  {
   "cell_type": "code",
   "execution_count": null,
   "metadata": {},
   "outputs": [],
   "source": []
  },
  {
   "cell_type": "markdown",
   "metadata": {},
   "source": [
    "<a href=\"#ex6answer\">Antwoord van opdracht 6</a>"
   ]
  },
  {
   "cell_type": "markdown",
   "metadata": {},
   "source": [
    "### Antwoorden van de opdrachten"
   ]
  },
  {
   "cell_type": "markdown",
   "metadata": {},
   "source": [
    "<a name=\"ex1aanswer\">Antwoord van opdracht 1</a>"
   ]
  },
  {
   "cell_type": "code",
   "execution_count": null,
   "metadata": {},
   "outputs": [],
   "source": [
    "a = 1\n",
    "b = 1\n",
    "c = -6\n",
    "x = -2\n",
    "y = a * x ** 2 + b * x + c\n",
    "print('y evaluated at x = -2 is', y)\n",
    "x = 0 \n",
    "y = a * x ** 2 + b * x + c\n",
    "print('y evaluated at x = 0 is', y)\n",
    "x = 2.1\n",
    "y = a * x ** 2 + b * x + c\n",
    "print('y evaluated at x = 2 is', y)"
   ]
  },
  {
   "cell_type": "markdown",
   "metadata": {},
   "source": [
    "<a href=\"#ex1a\">Terug naar opdracht 1a</a>\n",
    "\n",
    "<a name=\"ex1banswer\">Antwoord van opdracht  1b</a>"
   ]
  },
  {
   "cell_type": "code",
   "execution_count": null,
   "metadata": {},
   "outputs": [],
   "source": [
    "a = 1\n",
    "b = 1\n",
    "c = -6\n",
    "x = -2\n",
    "y = a * x ** 2 + b * x + c\n",
    "print(f'y evaluated at x = {x} is {y}')\n",
    "x = 0 \n",
    "y = a * x ** 2 + b * x + c\n",
    "print(f'y evaluated at x = {x} is {y}')\n",
    "x = 2.1\n",
    "y = a * x ** 2 + b * x + c\n",
    "print(f'y evaluated at x = {x} is {y:.2f}')"
   ]
  },
  {
   "cell_type": "markdown",
   "metadata": {},
   "source": [
    "<a href=\"#ex1b\">Terug naar opdracht 1b</a>\n",
    "\n",
    "<a name=\"ex2answer\">Antwoord van opdracht  2</a>"
   ]
  },
  {
   "cell_type": "code",
   "execution_count": null,
   "metadata": {},
   "outputs": [],
   "source": [
    "x = np.linspace(-3, 3, 100)\n",
    "y = (x + 2) * (x - 1) * (x - 2)\n",
    "plt.plot(x, y, 'r--')\n",
    "plt.plot([-2, 1, 2], [0, 0, 0], 'bo', markersize=10)\n",
    "plt.xlabel('x-axis')\n",
    "plt.ylabel('y-axis')\n",
    "plt.title('First Python Figure of Mark Bakker');"
   ]
  },
  {
   "cell_type": "markdown",
   "metadata": {},
   "source": [
    "<a href=\"#ex2\">Terug naar opdracht 2</a>\n",
    "\n",
    "<a name=\"ex3answer\">Antwoord van opdracht  3</a>"
   ]
  },
  {
   "cell_type": "code",
   "execution_count": null,
   "metadata": {},
   "outputs": [],
   "source": [
    "holland = np.loadtxt('holland_temperature.dat')\n",
    "newyork= np.loadtxt('newyork_temperature.dat')\n",
    "beijing = np.loadtxt('beijing_temperature.dat')\n",
    "plt.plot(np.linspace(1, 12, 12), holland)\n",
    "plt.plot(np.linspace(1, 12, 12), newyork)\n",
    "plt.plot(np.linspace(1, 12, 12), beijing)\n",
    "plt.xlabel('Number of the month')\n",
    "plt.ylabel('Mean monthly temperature (Celcius)')\n",
    "plt.xticks(np.linspace(1, 12, 12))\n",
    "plt.legend(['Holland','New York','Beijing'], loc='best');"
   ]
  },
  {
   "cell_type": "markdown",
   "metadata": {},
   "source": [
    "<a href=\"#ex3\">Terug naar opdracht 3</a>\n",
    "\n",
    "<a name=\"ex4answer\">Antwoord van opdracht  4</a>"
   ]
  },
  {
   "cell_type": "code",
   "execution_count": null,
   "metadata": {},
   "outputs": [],
   "source": [
    "air = np.loadtxt('holland_temperature.dat') \n",
    "sea = np.loadtxt('holland_seawater.dat')\n",
    "plt.subplot(211)\n",
    "plt.plot(air, 'b', label='air temp')\n",
    "plt.plot(sea, 'r', label='sea temp')\n",
    "plt.legend(loc='best')\n",
    "plt.ylabel('temp (Celcius)')\n",
    "plt.xlim(0, 11)\n",
    "plt.xticks([])\n",
    "plt.subplot(212)\n",
    "plt.plot(air-sea, 'ko')\n",
    "plt.xticks(np.linspace(0, 11, 12),\n",
    "           ['jan','feb','mar','apr','may','jun','jul','aug','sep','oct','nov','dec'])\n",
    "plt.xlim(0, 11)\n",
    "plt.ylabel('air - sea temp (Celcius)');"
   ]
  },
  {
   "cell_type": "markdown",
   "metadata": {},
   "source": [
    "<a href=\"#ex4\">Terug naar opdracht 4</a>\n",
    "\n",
    "<a name=\"ex5answer\">Antwoord van opdracht  5</a>"
   ]
  },
  {
   "cell_type": "code",
   "execution_count": null,
   "metadata": {},
   "outputs": [],
   "source": [
    "gold = [46, 38, 29, 24, 13, 11, 11, 8, 8, 7, 107]\n",
    "countries = ['USA', 'CHN', 'GBR', 'RUS', 'KOR', 'GER', 'FRA', 'ITA', 'HUN', 'AUS', 'OTHER']\n",
    "plt.pie(gold, labels = countries, colors = ['Gold', 'MediumBlue', 'SpringGreen', 'BlueViolet'])\n",
    "plt.axis('equal');"
   ]
  },
  {
   "cell_type": "markdown",
   "metadata": {},
   "source": [
    "<a href=\"#ex5\">Terug naar opdracht 5</a>\n",
    "\n",
    "<a name=\"ex6answer\">Antwoord van opdracht  6</a>"
   ]
  },
  {
   "cell_type": "code",
   "execution_count": null,
   "metadata": {},
   "outputs": [],
   "source": [
    "air = np.loadtxt('holland_temperature.dat') \n",
    "sea = np.loadtxt('holland_seawater.dat')\n",
    "plt.fill_between(range(1, 13), air, color='b', alpha=0.3)\n",
    "plt.fill_between(range(1, 13), sea, color='r', alpha=0.3)\n",
    "plt.xticks(np.arange(1, 13), ['jan', 'feb', 'mar', 'apr',\\\n",
    "           'may', 'jun', 'jul', 'aug', 'sep', ' oct', 'nov', 'dec'])\n",
    "plt.xlabel('Month')\n",
    "plt.ylabel('Temperature (Celcius)');"
   ]
  },
  {
   "cell_type": "markdown",
   "metadata": {},
   "source": [
    "<a href=\"#ex6\">Terug naar opdracht 6</a>"
   ]
  },
  {
   "cell_type": "code",
   "execution_count": null,
   "metadata": {},
   "outputs": [],
   "source": []
  }
 ],
 "metadata": {
  "anaconda-cloud": {},
  "kernelspec": {
   "display_name": "Python 3 (ipykernel)",
   "language": "python",
   "name": "python3"
  },
  "language_info": {
   "codemirror_mode": {
    "name": "ipython",
    "version": 3
   },
   "file_extension": ".py",
   "mimetype": "text/x-python",
   "name": "python",
   "nbconvert_exporter": "python",
   "pygments_lexer": "ipython3",
   "version": "3.9.7"
  },
  "latex_envs": {
   "LaTeX_envs_menu_present": true,
   "autoclose": false,
   "autocomplete": true,
   "bibliofile": "biblio.bib",
   "cite_by": "apalike",
   "current_citInitial": 1,
   "eqLabelWithNumbers": true,
   "eqNumInitial": 1,
   "hotkeys": {
    "equation": "Ctrl-E",
    "itemize": "Ctrl-I"
   },
   "labels_anchors": false,
   "latex_user_defs": false,
   "report_style_numbering": false,
   "user_envs_cfg": false
  },
  "varInspector": {
   "cols": {
    "lenName": 16,
    "lenType": 16,
    "lenVar": 40
   },
   "kernels_config": {
    "python": {
     "delete_cmd_postfix": "",
     "delete_cmd_prefix": "del ",
     "library": "var_list.py",
     "varRefreshCmd": "print(var_dic_list())"
    },
    "r": {
     "delete_cmd_postfix": ") ",
     "delete_cmd_prefix": "rm(",
     "library": "var_list.r",
     "varRefreshCmd": "cat(var_dic_list()) "
    }
   },
   "types_to_exclude": [
    "module",
    "function",
    "builtin_function_or_method",
    "instance",
    "_Feature"
   ],
   "window_display": false
  },
  "widgets": {
   "state": {},
   "version": "1.1.2"
  }
 },
 "nbformat": 4,
 "nbformat_minor": 4
}
